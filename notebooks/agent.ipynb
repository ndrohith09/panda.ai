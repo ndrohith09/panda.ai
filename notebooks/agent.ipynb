{
 "cells": [
  {
   "cell_type": "code",
   "execution_count": 19,
   "metadata": {},
   "outputs": [],
   "source": [
    "from langchain.chains import RetrievalQA\n",
    "from langchain_openai import ChatOpenAI\n",
    "from langchain_ollama import OllamaEmbeddings\n",
    "from langchain_community.vectorstores import FAISS \n",
    "\n",
    "embeddings = OllamaEmbeddings(\n",
    "    model=\"llama3.2\",\n",
    ")\n",
    "\n",
    "\n",
    "def retrieve_apache_embeddings(level:str, content : str):     \n",
    "\n",
    "    vectorstore = FAISS.load_local(\"apache_vector_store\", embeddings, allow_dangerous_deserialization=True)\n",
    "    print(\"inside event\", level, content)\n",
    "    query = f'''\n",
    "    Retrieve Event Id and Event Template from this error log \n",
    "    {level} {content}\n",
    "    '''\n",
    "\n",
    "    docs = vectorstore.similarity_search_with_relevance_scores(query,fetch_k=4)\n",
    "\n",
    "    return [ docs[0][0].page_content , level , content]\n",
    "\n",
    "def retrieve_zookeeper_embeddings(level:str, component:str, content : str):     \n",
    "\n",
    "    vectorstore = FAISS.load_local(\"zookeeper_vector_store\", embeddings, allow_dangerous_deserialization=True)\n",
    "    print(\"inside event\", level, content)\n",
    "    query = f'''\n",
    "    Retrieve Event Id and Event Template from this error log \n",
    "    {level} {component} {content}\n",
    "    '''\n",
    "\n",
    "    docs = vectorstore.similarity_search_with_relevance_scores(query,fetch_k=4)\n",
    "\n",
    "    return [ docs[0][0].page_content , level , content]\n",
    "\n",
    "\n",
    "def retrieve_linux_embeddings(level:str, component:str, content : str):     \n",
    "\n",
    "    vectorstore = FAISS.load_local(\"linux_vector_store\", embeddings, allow_dangerous_deserialization=True)\n",
    "    print(\"inside event\", level, content)\n",
    "    query = f'''\n",
    "    Retrieve Event Id and Event Template from this error log \n",
    "    {level} {component} {content}\n",
    "    '''\n",
    "\n",
    "    docs = vectorstore.similarity_search_with_relevance_scores(query,fetch_k=4)\n",
    "\n",
    "    return [ docs[0][0].page_content , level , content]\n",
    " "
   ]
  },
  {
   "cell_type": "code",
   "execution_count": 20,
   "metadata": {},
   "outputs": [],
   "source": [
    "import typing as t\n",
    "from pydantic import BaseModel, Field\n",
    "from langchain_core.tools import BaseTool, tool\n",
    "from langchain_core.tools import StructuredTool\n",
    "\n",
    "\n",
    "class DebugApacheErrorLog(BaseModel):\n",
    "    \"\"\"Request schema for Debug Apache Error Log\"\"\"\n",
    "\n",
    "    Level: str = Field( \n",
    "        ...,\n",
    "        alias=\"Level\",\n",
    "        description=\"Provides severity level about the error log\",        \n",
    "    ) \n",
    "\n",
    "    Content: str = Field( \n",
    "        ...,\n",
    "        alias=\"Content\",\n",
    "        description=\"Shows the error message of the event\", \n",
    "    )\n",
    "    \n",
    "\n",
    "def debug_apache_error_log(Level:str,  Content:str):\n",
    "        \"\"\" Read a debug Apache Error Log and return \n",
    "        Tool that retrieves solution from the existing logs if found, else creates a new solution\n",
    "        \n",
    "        Args:\n",
    "            Level: Provides severity level about the error log \n",
    "            Content: Shows the error message of the event\n",
    "        \"\"\"\n",
    "    \n",
    "        print(\"log found\", Content , Level)\n",
    "        if  Content:\n",
    "            output = retrieve_apache_embeddings(Level, Content)\n",
    "            return output\n",
    "        else:\n",
    "            raise \"Unknown Error\"\n",
    "\n",
    "debug_apache_error_log = StructuredTool.from_function(\n",
    "    func=debug_apache_error_log,\n",
    "    name=\"Debug Apache Error\",\n",
    "    description=\"Read a debug Apache Error Log and return\",\n",
    "    args_schema=DebugApacheErrorLog, \n",
    "    # coroutine= ... <- you can specify an async method if desired as well\n",
    ") "
   ]
  },
  {
   "cell_type": "code",
   "execution_count": 21,
   "metadata": {},
   "outputs": [],
   "source": [
    "class DebugZooKeeperErrorLog(BaseModel):\n",
    "    \"\"\"Request schema for Debug ZooKeeper Error Log\"\"\"\n",
    "\n",
    "    Level: str = Field( \n",
    "        ...,\n",
    "        alias=\"Level\",\n",
    "        description=\"Provides severity level about the error log\",        \n",
    "    ) \n",
    "\n",
    "    Component: str = Field( \n",
    "        ...,\n",
    "        alias=\"Component\",\n",
    "        description=\"Shows the which component throws the error\", \n",
    "    )\n",
    "\n",
    "    Content: str = Field( \n",
    "        ...,\n",
    "        alias=\"Content\",\n",
    "        description=\"Shows the error message of the event\", \n",
    "    )\n",
    "    \n",
    "\n",
    "def debug_zookeeper_error_log(Level:str, Component:str,  Content:str):\n",
    "        \"\"\" Read a debug Zookeeper Error Log and return \n",
    "        Tool that retrieves solution from the existing logs if found, else creates a new solution\n",
    "        \n",
    "        Args:\n",
    "            Level: Provides severity level about the error log \n",
    "            Component: Shows the which component throws the error\n",
    "            Content: Shows the error message of the event\n",
    "        \"\"\"\n",
    "    \n",
    "        print(\"log found\", Content , Level)\n",
    "        if  Content:\n",
    "            output = retrieve_zookeeper_embeddings(Level,Component, Content)\n",
    "            return output\n",
    "        else:\n",
    "            raise \"Unknown Error\"\n",
    "\n",
    "debug_zookeeper_error_log = StructuredTool.from_function(\n",
    "    func=debug_zookeeper_error_log,\n",
    "    name=\"Debug Zookeeper Error\",\n",
    "    description=\"Read a debug Zookeeper Error Log and return\",\n",
    "    args_schema=DebugZooKeeperErrorLog, \n",
    "    # coroutine= ... <- you can specify an async method if desired as well\n",
    ") "
   ]
  },
  {
   "cell_type": "code",
   "execution_count": 22,
   "metadata": {},
   "outputs": [],
   "source": [
    "class DebugLinuxErrorLog(BaseModel):\n",
    "    \"\"\"Request schema for Debug ZooKeeper Error Log\"\"\"\n",
    "\n",
    "    Level: str = Field( \n",
    "        ...,\n",
    "        alias=\"Level\",\n",
    "        description=\"Provides severity level about the error log\",        \n",
    "    ) \n",
    "\n",
    "    Component: str = Field( \n",
    "        ...,\n",
    "        alias=\"Component\",\n",
    "        description=\"Shows the which component throws the error\", \n",
    "    )\n",
    "\n",
    "    Content: str = Field( \n",
    "        ...,\n",
    "        alias=\"Content\",\n",
    "        description=\"Shows the error message of the event\", \n",
    "    )\n",
    "    \n",
    "\n",
    "def debug_linux_error_log(Level:str, Component:str,  Content:str):\n",
    "        \"\"\" Read a debug Linux Error Log and return \n",
    "        Tool that retrieves solution from the existing logs if found, else creates a new solution\n",
    "        \n",
    "        Args:\n",
    "            Level: Provides severity level about the error log \n",
    "            Component: Shows the which component throws the error\n",
    "            Content: Shows the error message of the event\n",
    "        \"\"\"\n",
    "    \n",
    "        print(\"log found\", Content , Level)\n",
    "        if  Content:\n",
    "            output = retrieve_zookeeper_embeddings(Level,Component, Content)\n",
    "            return output\n",
    "        else:\n",
    "            raise \"Unknown Error\"\n",
    "\n",
    "debug_linux_error_log = StructuredTool.from_function(\n",
    "    func=debug_linux_error_log,\n",
    "    name=\"Debug Linux Error\",\n",
    "    description=\"Read a debug Linux Error Log and return\",\n",
    "    args_schema=DebugLinuxErrorLog, \n",
    "    # coroutine= ... <- you can specify an async method if desired as well\n",
    ") "
   ]
  },
  {
   "cell_type": "code",
   "execution_count": 23,
   "metadata": {},
   "outputs": [
    {
     "data": {
      "text/plain": [
       "[StructuredTool(name='Debug Apache Error', description='Read a debug Apache Error Log and return', args_schema=<class '__main__.DebugApacheErrorLog'>, func=<function debug_apache_error_log at 0x70be01446950>),\n",
       " StructuredTool(name='Debug Zookeeper Error', description='Read a debug Zookeeper Error Log and return', args_schema=<class '__main__.DebugZooKeeperErrorLog'>, func=<function debug_zookeeper_error_log at 0x70be0c47b010>),\n",
       " StructuredTool(name='Debug Linux Error', description='Read a debug Linux Error Log and return', args_schema=<class '__main__.DebugLinuxErrorLog'>, func=<function debug_linux_error_log at 0x70be022c0430>)]"
      ]
     },
     "execution_count": 23,
     "metadata": {},
     "output_type": "execute_result"
    }
   ],
   "source": [
    "tools = [debug_apache_error_log, debug_zookeeper_error_log, debug_linux_error_log]\n",
    "tools"
   ]
  },
  {
   "cell_type": "code",
   "execution_count": 24,
   "metadata": {},
   "outputs": [],
   "source": [
    "system_prompt = \"\"\"\n",
    "You are an agent responsible for debugging error logs and mail them to Respective Mail Id.\n",
    "\n",
    "You are provided with several functions (tools) and must choose and fill their parameters based on the given situation.\n",
    "\n",
    "When presented with a error log, select the appropriate function to solve it.\n",
    "\n",
    "The Functions provided to you are:\n",
    "\n",
    "{{SUPPORTED_TOOLS_FUNCTIONS}}\n",
    "\n",
    "Our task is to analyze the error, and provide a solution returned from the function tool.\n",
    "\n",
    "Output format:  `Solution: <solution_returned_from_function_tool>` or a status if the operation is not supported.\n",
    "\n",
    "Examples:\n",
    "\n",
    "Input : Apache Error Log Format: [Time], [Level], Content - [Sun Dec 04 04:47:44 2005] [error] mod_jk child workerEnv in error state 6\n",
    "\n",
    "Once you receive the [Event Id] and [Event Template] from tool, analyse the error log and provide a proper solution\n",
    " \n",
    "Solution: <your_analysis_on_solution_returned_from_function_tool>\n",
    "\n",
    "\"\"\""
   ]
  },
  {
   "cell_type": "code",
   "execution_count": 25,
   "metadata": {},
   "outputs": [],
   "source": [
    "from langgraph.prebuilt import create_react_agent\n",
    "from langchain_openai import ChatOpenAI\n",
    "from langgraph.checkpoint.memory import MemorySaver\n",
    "from langchain_core.messages import HumanMessage\n",
    "\n",
    "memory =  MemorySaver()\n",
    "llm = ChatOpenAI(\n",
    "    base_url = 'http://localhost:11434/v1',\n",
    "    api_key='ollama',\n",
    "    model=\"llama3.2\"\n",
    ")  \n",
    "config = {\"configurable\": {\"thread_id\": \"abc123\"}}\n",
    "\n",
    "llm_agent = create_react_agent(llm, tools=tools, state_modifier=system_prompt)"
   ]
  },
  {
   "cell_type": "code",
   "execution_count": 28,
   "metadata": {},
   "outputs": [],
   "source": [
    "from langchain_core.prompts import PromptTemplate\n",
    "def draft_email_format(input : str, errortype:str, error:str, solution:str):\n",
    "    system = \"\"\"\n",
    "    You are tasked with formatting the content strictly in the following format without adding extra information or explanation: \n",
    "    Extract EventId, EventTemplate, Level from the {input} and format accordingly.\n",
    "    \"\"\"\n",
    "\n",
    "\n",
    "    e_prompt_template = PromptTemplate(\n",
    "    input_variables=[\"input\"], \n",
    "    template = system) \n",
    "\n",
    "    e_prompt = e_prompt_template.format(input = input)\n",
    "    event = llm.invoke(e_prompt) \n",
    "\n",
    "    system_template = \"\"\"\n",
    "    You are tasked with formatting the content strictly in the following format without adding extra information or explanation:\n",
    "\n",
    "    {errortype} Error\n",
    "\n",
    "    {event}\n",
    "\n",
    "    Error: {error}\n",
    "    {solution}\n",
    "    \"\"\"\n",
    "\n",
    "    prompt_template = PromptTemplate(\n",
    "    input_variables=[\"event\", \"error\", \"solution\"], \n",
    "    template = system_template) \n",
    "\n",
    "\n",
    "    prompt = prompt_template.format(event = event.content, errortype = errortype, error = error, solution = solution)\n",
    "    result = llm.invoke(prompt) \n",
    "    return result\n",
    "\n"
   ]
  },
  {
   "cell_type": "code",
   "execution_count": 30,
   "metadata": {},
   "outputs": [
    {
     "name": "stdout",
     "output_type": "stream",
     "text": [
      "log found [Sun Dec 04 04:51:18 2005] [error] mod_jk child workerEnv in error state 6 error\n",
      "inside event error [Sun Dec 04 04:51:18 2005] [error] mod_jk child workerEnv in error state 6\n"
     ]
    },
    {
     "data": {
      "text/plain": [
       "AIMessage(content='Apache Error\\n\\nEventId: E3\\nEventTemplate: mod_jk child workerEnv in error state<*>\\nLevel: error\\n\\nError: [Sun Dec 04 04:51:18 2005] [error] mod_jk child workerEnv in error state 6\\nSolution: The Apache Error Log indicates that the mod_jk module is experiencing an error state with a value of 6. This could be due to a configuration issue or a problem with the Java Virtual Machine (JVM) that is being used by the web server. To resolve this issue, you should check the Apache HTTP Server configuration files to ensure that the mod_jk module is properly configured and that the JVM is running correctly. If the issue persists, you may need to consult the documentation for the specific version of the mod_jk module that is installed on your system or seek further assistance from a qualified system administrator.', additional_kwargs={'refusal': None}, response_metadata={'token_usage': {'completion_tokens': 185, 'prompt_tokens': 234, 'total_tokens': 419, 'completion_tokens_details': None, 'prompt_tokens_details': None}, 'model_name': 'llama3.2', 'system_fingerprint': 'fp_ollama', 'finish_reason': 'stop', 'logprobs': None}, id='run-a54131a7-0600-485c-98e1-e81dbb8adf81-0', usage_metadata={'input_tokens': 234, 'output_tokens': 185, 'total_tokens': 419, 'input_token_details': {}, 'output_token_details': {}})"
      ]
     },
     "execution_count": 30,
     "metadata": {},
     "output_type": "execute_result"
    }
   ],
   "source": [
    "error = \"[Sun Dec 04 04:51:18 2005] [error] mod_jk child workerEnv in error state 6\"\n",
    "errortype = \"Apache\"\n",
    "\n",
    "query = f'''\n",
    "{errortype} Error Log Format: [Time], [Level], Content \n",
    "{error}\n",
    "'''\n",
    "\n",
    "inputs = [HumanMessage(content=query)]\n",
    "\n",
    "tool_llm_aimessage = llm_agent.invoke({\"messages\": inputs})\n",
    "res = draft_email_format(tool_llm_aimessage['messages'][-2].content , errortype, error, tool_llm_aimessage['messages'][-1].content)\n",
    "res"
   ]
  },
  {
   "cell_type": "code",
   "execution_count": 32,
   "metadata": {},
   "outputs": [
    {
     "name": "stdout",
     "output_type": "stream",
     "text": [
      "The output is: Apache Error\n",
      "\n",
      "EventId: E3\n",
      "EventTemplate: mod_jk child workerEnv in error state<*>\n",
      "Level: error\n",
      "\n",
      "Error: [Sun Dec 04 04:51:18 2005] [error] mod_jk child workerEnv in error state 6\n",
      "Solution: The Apache Error Log indicates that the mod_jk module is experiencing an error state with a value of 6. This could be due to a configuration issue or a problem with the Java Virtual Machine (JVM) that is being used by the web server. To resolve this issue, you should check the Apache HTTP Server configuration files to ensure that the mod_jk module is properly configured and that the JVM is running correctly. If the issue persists, you may need to consult the documentation for the specific version of the mod_jk module that is installed on your system or seek further assistance from a qualified system administrator.\n"
     ]
    }
   ],
   "source": [
    "print(\"The output is:\", res.content)  "
   ]
  },
  {
   "cell_type": "code",
   "execution_count": 9,
   "metadata": {},
   "outputs": [
    {
     "name": "stdout",
     "output_type": "stream",
     "text": [
      "log found Received connection request /10.10.34.11:45307 INFO\n",
      "inside event INFO Received connection request /10.10.34.11:45307\n",
      "Solution: The ZooKeeper QuorumCnxManager$Listener is receiving a connection request from /10.10.34.11:45307, which is expected behavior. The INFO level indicates that this is an informational message and does not necessarily indicate an error. Therefore, no further action is required to resolve the issue.\n",
      "[\"EventId: E50\\nEventTemplate: Unexpected Exception:\", \"INFO\", \"Received connection request /10.10.34.11:45307\"]\n"
     ]
    }
   ],
   "source": [
    "query = '''\n",
    "Zookeeper Error Log Format: [Time], [Component], [Level], Content\n",
    "2015-07-29 19:04:12,394 - INFO  [/10.10.34.11:3888:QuorumCnxManager$Listener@493] - Received connection request /10.10.34.11:45307\n",
    "'''\n",
    "\n",
    "inputs = [HumanMessage(content=query)]\n",
    "\n",
    "tool_llm_aimessage = llm_agent.invoke({\"messages\": inputs})\n",
    "tool_llm_aimessage\n",
    "print(tool_llm_aimessage['messages'][-1].content)\n",
    "print(tool_llm_aimessage['messages'][-2].content)"
   ]
  },
  {
   "cell_type": "code",
   "execution_count": 33,
   "metadata": {},
   "outputs": [
    {
     "data": {
      "text/plain": [
       "b'SnVuIDE2IDA0OjE2OjE3IGNvbWJvIHN1KHBhbV91bml4KVsyNTU0OF06IHNlc3Npb24gb3BlbmVkIGZvciB1c2VyIG5ld3MgYnkgKHVpZD0wKQ=='"
      ]
     },
     "execution_count": 33,
     "metadata": {},
     "output_type": "execute_result"
    }
   ],
   "source": [
    "import base64 \n",
    "\n",
    "def encode_byte(text):\n",
    "  encoded_bytes = base64.b64encode(text.encode(\"utf-8\"))\n",
    "  return encoded_bytes\n",
    "\n",
    "text = \"Jun 16 04:16:17 combo su(pam_unix)[25548]: session opened for user news by (uid=0)\"\n",
    "encode_byte(text)"
   ]
  },
  {
   "cell_type": "code",
   "execution_count": 10,
   "metadata": {},
   "outputs": [
    {
     "name": "stdout",
     "output_type": "stream",
     "text": [
      "log found Content [Level]\n",
      "inside event [Level] Content\n",
      "Solution: The error log indicates a session opened for user news by (uid=0). This might be an indication of unauthorized access or an unexpected system behavior. It is recommended to investigate further and ensure that the user's session is legitimate and properly authenticated. Additionally, reviewing the system logs and authentication records can help identify any potential security vulnerabilities.\n",
      "[\"EventId: E50\\nEventTemplate: Unexpected Exception:\", \"[Level]\", \"Content\"]\n"
     ]
    }
   ],
   "source": [
    "query = '''\n",
    "Linux Error Log Format: [Time], [Component], [Level], Content\n",
    "Jun 16 04:16:17 combo su(pam_unix)[25548]: session opened for user news by (uid=0)\n",
    "'''\n",
    "\n",
    "inputs = [HumanMessage(content=query)]\n",
    "\n",
    "tool_llm_aimessage = llm_agent.invoke({\"messages\": inputs})\n",
    "tool_llm_aimessage\n",
    "print(tool_llm_aimessage['messages'][-1].content)\n",
    "print(tool_llm_aimessage['messages'][-2].content)"
   ]
  },
  {
   "cell_type": "code",
   "execution_count": 22,
   "metadata": {},
   "outputs": [],
   "source": [
    "text = tool_llm_aimessage['messages'][-2].content + tool_llm_aimessage['messages'][-1].content"
   ]
  },
  {
   "cell_type": "code",
   "execution_count": 23,
   "metadata": {},
   "outputs": [
    {
     "data": {
      "text/plain": [
       "b'WyJFdmVudElkOiBFNTBcbkV2ZW50VGVtcGxhdGU6IFVuZXhwZWN0ZWQgRXhjZXB0aW9uOiIsICJbTGV2ZWxdIiwgIkNvbnRlbnQiXVNvbHV0aW9uOiBUaGUgZXJyb3IgbG9nIGluZGljYXRlcyBhIHNlc3Npb24gb3BlbmVkIGZvciB1c2VyIG5ld3MgYnkgKHVpZD0wKS4gVGhpcyBtaWdodCBiZSBhbiBpbmRpY2F0aW9uIG9mIHVuYXV0aG9yaXplZCBhY2Nlc3Mgb3IgYW4gdW5leHBlY3RlZCBzeXN0ZW0gYmVoYXZpb3IuIEl0IGlzIHJlY29tbWVuZGVkIHRvIGludmVzdGlnYXRlIGZ1cnRoZXIgYW5kIGVuc3VyZSB0aGF0IHRoZSB1c2VyJ3Mgc2Vzc2lvbiBpcyBsZWdpdGltYXRlIGFuZCBwcm9wZXJseSBhdXRoZW50aWNhdGVkLiBBZGRpdGlvbmFsbHksIHJldmlld2luZyB0aGUgc3lzdGVtIGxvZ3MgYW5kIGF1dGhlbnRpY2F0aW9uIHJlY29yZHMgY2FuIGhlbHAgaWRlbnRpZnkgYW55IHBvdGVudGlhbCBzZWN1cml0eSB2dWxuZXJhYmlsaXRpZXMu'"
      ]
     },
     "execution_count": 23,
     "metadata": {},
     "output_type": "execute_result"
    }
   ],
   "source": [
    "import base64\n",
    "\n",
    "encoded_bytes = base64.b64encode(text.encode(\"utf-8\"))\n",
    "encoded_bytes"
   ]
  },
  {
   "cell_type": "code",
   "execution_count": 30,
   "metadata": {},
   "outputs": [
    {
     "data": {
      "text/plain": [
       "str"
      ]
     },
     "execution_count": 30,
     "metadata": {},
     "output_type": "execute_result"
    }
   ],
   "source": [
    "str = \"WyJFdmVudElkOiBFNTBcbkV2ZW50VGVtcGxhdGU6IFVuZXhwZWN0ZWQgRXhjZXB0aW9uOiIsICJbTGV2ZWxdIiwgIkNvbnRlbnQiXVNvbHV0aW9uOiBUaGUgZXJyb3IgbG9nIGluZGljYXRlcyBhIHNlc3Npb24gb3BlbmVkIGZvciB1c2VyIG5ld3MgYnkgKHVpZD0wKS4gVGhpcyBtaWdodCBiZSBhbiBpbmRpY2F0aW9uIG9mIHVuYXV0aG9yaXplZCBhY2Nlc3Mgb3IgYW4gdW5leHBlY3RlZCBzeXN0ZW0gYmVoYXZpb3IuIEl0IGlzIHJlY29tbWVuZGVkIHRvIGludmVzdGlnYXRlIGZ1cnRoZXIgYW5kIGVuc3VyZSB0aGF0IHRoZSB1c2VyJ3Mgc2Vzc2lvbiBpcyBsZWdpdGltYXRlIGFuZCBwcm9wZXJseSBhdXRoZW50aWNhdGVkLiBBZGRpdGlvbmFsbHksIHJldmlld2luZyB0aGUgc3lzdGVtIGxvZ3MgYW5kIGF1dGhlbnRpY2F0aW9uIHJlY29yZHMgY2FuIGhlbHAgaWRlbnRpZnkgYW55IHBvdGVudGlhbCBzZWN1cml0eSB2dWxuZXJhYmlsaXRpZXMu\"\n",
    "base64.b64decode(str).decode(\"utf-8\")"
   ]
  },
  {
   "cell_type": "code",
   "execution_count": 2,
   "metadata": {},
   "outputs": [],
   "source": [
    "solution = \"\"\" \n",
    "Solution: The error log indicates a session opened for user news by (uid=0). This might be an indication of unauthorized access or an unexpected system behavior. It is recommended to investigate further and ensure that the user's session is legitimate and properly authenticated. Additionally, reviewing the system logs and authentication records can help identify any potential security vulnerabilities.\n",
    "\"\"\"\n",
    "\n",
    "error = \"Jun 16 04:16:17 combo su(pam_unix)[25548]: session opened for user news by (uid=0)\"\n",
    "\n",
    "input = \"\"\" \n",
    "[\"EventId: E50\\nEventTemplate: Unexpected Exception:\", \"[Level]\", \"Content\"]\n",
    "\"\"\""
   ]
  },
  {
   "cell_type": "code",
   "execution_count": 18,
   "metadata": {},
   "outputs": [
    {
     "name": "stdout",
     "output_type": "stream",
     "text": [
      "The output is: EventId: E50\n",
      "EventTemplate: Unexpected Exception:\n",
      "Level: [Level]\n",
      "Content\n",
      "\n",
      "Error: Jun 16 04:16:17 combo su(pam_unix)[25548]: session opened for user news by (uid=0)\n",
      " \n",
      "Solution: The error log indicates a session opened for user news by (uid=0). This might be an indication of unauthorized access or an unexpected system behavior. It is recommended to investigate further and ensure that the user's session is legitimate and properly authenticated. Additionally, reviewing the system logs and authentication records can help identify any potential security vulnerabilities.\n"
     ]
    }
   ],
   "source": [
    "from langchain_openai import ChatOpenAI \n",
    "from langchain_core.output_parsers import StrOutputParser \n",
    "from langchain_core.prompts import PromptTemplate\n",
    "\n",
    "llm = ChatOpenAI(\n",
    "    base_url = 'http://localhost:11434/v1',\n",
    "    api_key='ollama', \n",
    "    model=\"llama3.2\"\n",
    ")  \n",
    "\n",
    "system = \"\"\"\n",
    "You are tasked with formatting the content strictly in the following format without adding extra information or explanation: \n",
    "Extract EventId, EventTemplate, Level from the {input} and format accordingly.\n",
    "\"\"\"\n",
    "\n",
    "\n",
    "e_prompt_template = PromptTemplate(\n",
    "  input_variables=[\"input\"], \n",
    "  template = system) \n",
    "\n",
    "e_prompt = e_prompt_template.format(input = input)\n",
    "event = llm.invoke(e_prompt) \n",
    "\n",
    "system_template = \"\"\"\n",
    "You are tasked with formatting the content strictly in the following format without adding extra information or explanation:\n",
    "\n",
    "{event}\n",
    "\n",
    "Error: {error}\n",
    "{solution}\n",
    "\"\"\"\n",
    "\n",
    "prompt_template = PromptTemplate(\n",
    "  input_variables=[\"event\", \"error\", \"solution\"], \n",
    "  template = system_template) \n",
    "\n",
    "\n",
    "prompt = prompt_template.format(event = event.content, error = error, solution = solution)\n",
    "result = llm.invoke(prompt) \n",
    "\n",
    "print(\"The output is:\", result.content)  "
   ]
  },
  {
   "cell_type": "code",
   "execution_count": 3,
   "metadata": {},
   "outputs": [
    {
     "data": {
      "text/plain": [
       "'3e618d7f-2980-4c02-aed1-e3cc74748199'"
      ]
     },
     "execution_count": 3,
     "metadata": {},
     "output_type": "execute_result"
    }
   ],
   "source": [
    "import uuid\n",
    "str(uuid.uuid4())"
   ]
  },
  {
   "cell_type": "code",
   "execution_count": null,
   "metadata": {},
   "outputs": [],
   "source": []
  }
 ],
 "metadata": {
  "kernelspec": {
   "display_name": "Python 3",
   "language": "python",
   "name": "python3"
  },
  "language_info": {
   "codemirror_mode": {
    "name": "ipython",
    "version": 3
   },
   "file_extension": ".py",
   "mimetype": "text/x-python",
   "name": "python",
   "nbconvert_exporter": "python",
   "pygments_lexer": "ipython3",
   "version": "3.10.12"
  }
 },
 "nbformat": 4,
 "nbformat_minor": 2
}
