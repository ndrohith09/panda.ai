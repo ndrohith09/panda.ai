{
 "cells": [
  {
   "cell_type": "code",
   "execution_count": 9,
   "metadata": {},
   "outputs": [
    {
     "name": "stdout",
     "output_type": "stream",
     "text": [
      "page_content='EventId: E1\n",
      "EventTemplate: *** info [mice.c(<*>)]:' metadata={'source': './linux/Linux_2k.log_templates.csv', 'row': 0}\n",
      "page_content='EventId: E2\n",
      "EventTemplate: <*> HIGHMEM available.' metadata={'source': './linux/Linux_2k.log_templates.csv', 'row': 1}\n"
     ]
    }
   ],
   "source": [
    "from langchain_community.document_loaders.csv_loader import CSVLoader\n",
    "\n",
    "file_path = (\n",
    "    \"./linux/Linux_2k.log_templates.csv\"\n",
    ")\n",
    "\n",
    "# file_path = (\n",
    "#     \"./apache/Apache_2k.log_templates.csv\"\n",
    "# )\n",
    "\n",
    "loader = CSVLoader(file_path=file_path)\n",
    "data = loader.load()\n",
    "\n",
    "for record in data[:2]:\n",
    "    print(record)"
   ]
  },
  {
   "cell_type": "code",
   "execution_count": 10,
   "metadata": {},
   "outputs": [
    {
     "data": {
      "text/plain": [
       "Document(metadata={'source': './linux/Linux_2k.log_templates.csv', 'row': 0}, page_content='EventId: E1\\nEventTemplate: *** info [mice.c(<*>)]:')"
      ]
     },
     "execution_count": 10,
     "metadata": {},
     "output_type": "execute_result"
    }
   ],
   "source": [
    "data[0]"
   ]
  },
  {
   "cell_type": "code",
   "execution_count": 11,
   "metadata": {},
   "outputs": [],
   "source": [
    "from langchain_text_splitters import RecursiveCharacterTextSplitter\n",
    "\n",
    "text_splitter = RecursiveCharacterTextSplitter(chunk_size=500, chunk_overlap=0, separators=[\"\\n\\n\", \"\\n\", \" \", \"\"])\n",
    "all_splits = text_splitter.split_documents(data)"
   ]
  },
  {
   "cell_type": "code",
   "execution_count": 13,
   "metadata": {},
   "outputs": [],
   "source": [
    "from langchain_community.vectorstores import FAISS \n",
    "from langchain_openai import OpenAIEmbeddings\n",
    "from langchain_community.embeddings import HuggingFaceEmbeddings\n",
    "from langchain_community.embeddings import OllamaEmbeddings\n",
    "\n",
    "# vectorstore = FAISS.from_documents(documents=all_splits, embedding=HuggingFaceEmbeddings(model_name=\"all-MiniLM-L6-v2\"))"
   ]
  },
  {
   "cell_type": "code",
   "execution_count": 14,
   "metadata": {},
   "outputs": [],
   "source": [
    "from langchain_ollama import OllamaEmbeddings\n",
    "\n",
    "embeddings = OllamaEmbeddings(\n",
    "    model=\"llama3.2\",\n",
    ")"
   ]
  },
  {
   "cell_type": "code",
   "execution_count": 15,
   "metadata": {},
   "outputs": [],
   "source": [
    "vectorstore = FAISS.from_documents(all_splits, embeddings)"
   ]
  },
  {
   "cell_type": "code",
   "execution_count": 16,
   "metadata": {},
   "outputs": [],
   "source": [
    "vectorstore.save_local(\"linux_vector_store\")"
   ]
  },
  {
   "cell_type": "code",
   "execution_count": 13,
   "metadata": {},
   "outputs": [
    {
     "data": {
      "text/plain": [
       "'EventId: E3\\nEventTemplate: mod_jk child workerEnv in error state <*>'"
      ]
     },
     "execution_count": 13,
     "metadata": {},
     "output_type": "execute_result"
    }
   ],
   "source": [
    "query = '''\n",
    "Retrieve Event Id from this error log\n",
    "notice,workerEnv.init() ok /etc/httpd/conf/workers2.properties,E2,workerEnv.init() ok <*>\n",
    "'''\n",
    "docs = vectorstore.similarity_search_with_relevance_scores(query,fetch_k=4)\n",
    "docs[0].page_content"
   ]
  },
  {
   "cell_type": "code",
   "execution_count": 22,
   "metadata": {},
   "outputs": [
    {
     "name": "stdout",
     "output_type": "stream",
     "text": [
      "tags=['FAISS', 'OllamaEmbeddings'] vectorstore=<langchain_community.vectorstores.faiss.FAISS object at 0x7db618096740> search_kwargs={'k': 1}\n"
     ]
    },
    {
     "data": {
      "text/plain": [
       "{'query': '\\nYou are provided with Error Log that consists of \"Content\" and \"Level\".  \\nRetrieve Event Id and Event Template for this error log in list format with no textual data.\\n\\nInput Format: [Time] [Level] [Content]\\n\\nProvide the Output in the following format\\nOutput Format: Event ID: [Event ID], Event Template: [Event Template]\\n\\nNow provide the Output in the following format for the error \\n\\n[Sun Dec 04 04:51:09 2005] [notice] jk2_init() Found child 6728 in scoreboard slot 6\\n\\n',\n",
       " 'result': 'Here is the output in the required format:\\n\\n* Event ID: E3\\n* Event Template: mod_jk child workerEnv in error state \\n\\nNote that I could not extract any textual data from the input log as per your requirement. However, based on the provided event id (E3), I was able to match it with a possible template \"mod_jk child workerEnv in error state\".',\n",
       " 'source_documents': [Document(metadata={'source': './apache/Apache_2k.log_templates.csv', 'row': 2}, page_content='EventId: E3\\nEventTemplate: mod_jk child workerEnv in error state <*>')]}"
      ]
     },
     "execution_count": 22,
     "metadata": {},
     "output_type": "execute_result"
    }
   ],
   "source": [
    "from langchain.chains import RetrievalQA\n",
    "from langchain_openai import ChatOpenAI\n",
    "from langchain_ollama import OllamaEmbeddings\n",
    "from langchain_community.vectorstores import FAISS \n",
    "\n",
    "llm = ChatOpenAI(\n",
    "    base_url = 'http://localhost:11434/v1',\n",
    "    api_key='ollama', # required, but unused\n",
    "    model=\"llama3.2\"\n",
    ")  \n",
    "\n",
    "embeddings = OllamaEmbeddings(\n",
    "    model=\"llama3.2\",\n",
    ")\n",
    "\n",
    "vectorstore = FAISS.load_local(\"apache_vector_store\", embeddings, allow_dangerous_deserialization=True)\n",
    "\n",
    "input = \"[Sun Dec 04 04:51:09 2005] [notice] jk2_init() Found child 6728 in scoreboard slot 6\"\n",
    "\n",
    "query = f'''\n",
    "You are provided with Error Log that consists of \"Content\" and \"Level\".  \n",
    "Retrieve Event Id and Event Template for this error log in list format with no textual data.\n",
    "\n",
    "Input Format: [Time] [Level] [Content]\n",
    "\n",
    "Provide the Output in the following format\n",
    "Output Format: Event ID: [Event ID], Event Template: [Event Template]\n",
    "\n",
    "Now provide the Output in the following format for the error \n",
    "\n",
    "{input}\n",
    "\n",
    "'''\n",
    "\n",
    "retriever = vectorstore.as_retriever(\n",
    "    search_type=\"similarity\",\n",
    "    search_kwargs={\"k\": 1},\n",
    ")\n",
    "print(retriever)\n",
    "\n",
    "\n",
    "qa = RetrievalQA.from_chain_type(\n",
    "    llm=llm,\n",
    "    chain_type=\"stuff\",\n",
    "    retriever=retriever,\n",
    "    return_source_documents=True,      \n",
    ") \n",
    "results = qa.invoke(query)\n",
    "results"
   ]
  },
  {
   "cell_type": "code",
   "execution_count": 15,
   "metadata": {},
   "outputs": [
    {
     "data": {
      "text/plain": [
       "'Here is the output:\\n\\nOutput:\\nEvent ID: E1, Event Template: jk2_init()\\nEvent ID: E3, Event Template: mod_jk child workerEnv'"
      ]
     },
     "execution_count": 15,
     "metadata": {},
     "output_type": "execute_result"
    }
   ],
   "source": [
    "results['result']"
   ]
  },
  {
   "cell_type": "markdown",
   "metadata": {},
   "source": [
    "'Here is the output:\\n\\nOutput:\\nEvent ID: E1, Event Template: jk2_init()\\nEvent ID: E3, Event Template: mod_jk child workerEnv'"
   ]
  },
  {
   "cell_type": "code",
   "execution_count": 23,
   "metadata": {},
   "outputs": [
    {
     "name": "stdout",
     "output_type": "stream",
     "text": [
      "tags=['FAISS', 'OllamaEmbeddings'] vectorstore=<langchain_community.vectorstores.faiss.FAISS object at 0x7db6180505e0> search_kwargs={'k': 1}\n"
     ]
    }
   ],
   "source": [
    "from langchain.chains import RetrievalQA\n",
    "from langchain_openai import ChatOpenAI\n",
    "from langchain_ollama import OllamaEmbeddings\n",
    "from langchain_community.vectorstores import FAISS \n",
    "\n",
    "llm = ChatOpenAI(\n",
    "    base_url = 'http://localhost:11434/v1',\n",
    "    api_key='ollama', # required, but unused\n",
    "    model=\"llama3.2\"\n",
    ")  \n",
    "\n",
    "embeddings = OllamaEmbeddings(\n",
    "    model=\"llama3.2\",\n",
    ")\n",
    "\n",
    "vectorstore = FAISS.load_local(\"error_template_vector_store\", embeddings, allow_dangerous_deserialization=True)\n",
    "\n",
    "input = \"[Sun Dec 04 04:51:09 2005] [notice] jk2_init() Found child 6728 in scoreboard slot 6\"\n",
    "\n",
    "query = f'''\n",
    "You are provided with Error Log that consists of \"Content\" and \"Level\".  \n",
    "Retrieve Event Id and Event Template for this error log in list format with no textual data.\n",
    "\n",
    "Input Format: [Time] [Level] [Content]\n",
    "\n",
    "Provide the Output in the following format\n",
    "Output Format: Event ID: [Event ID], Event Template: [Event Template]\n",
    "\n",
    "Now provide the Output in the following format for the error \n",
    "\n",
    "{input}\n",
    "\n",
    "'''\n",
    "\n",
    "retriever = vectorstore.as_retriever(\n",
    "    search_type=\"similarity\",\n",
    "    search_kwargs={\"k\": 1},\n",
    ")\n",
    "print(retriever)"
   ]
  },
  {
   "cell_type": "code",
   "execution_count": 27,
   "metadata": {},
   "outputs": [
    {
     "name": "stderr",
     "output_type": "stream",
     "text": [
      "/tmp/ipykernel_72904/1640382489.py:5: UserWarning: Relevance scores must be between 0 and 1, got [(Document(metadata={'source': './apache/Apache_2k.log_templates.csv', 'row': 2}, page_content='EventId: E3\\nEventTemplate: mod_jk child workerEnv in error state <*>'), 0.164907401226967), (Document(metadata={'source': './apache/Apache_2k.log_templates.csv', 'row': 1}, page_content='EventId: E2\\nEventTemplate: workerEnv.init() ok <*>'), 0.1078788376816644), (Document(metadata={'source': './apache/Apache_2k.log_templates.csv', 'row': 3}, page_content='EventId: E4\\nEventTemplate: [client <*>] Directory index forbidden by rule: <*>'), -0.013616365234143446), (Document(metadata={'source': './apache/Apache_2k.log_templates.csv', 'row': 0}, page_content='EventId: E1\\nEventTemplate: jk2_init() Found child <*> in scoreboard slot <*>'), -0.033750167648888496)]\n",
      "  docs = vectorstore.similarity_search_with_relevance_scores(query,fetch_k=4)\n"
     ]
    },
    {
     "data": {
      "text/plain": [
       "(Document(metadata={'source': './apache/Apache_2k.log_templates.csv', 'row': 2}, page_content='EventId: E3\\nEventTemplate: mod_jk child workerEnv in error state <*>'),\n",
       " 0.164907401226967)"
      ]
     },
     "execution_count": 27,
     "metadata": {},
     "output_type": "execute_result"
    }
   ],
   "source": [
    "query = '''\n",
    "Retrieve Event Id from this error log\n",
    "notice,workerEnv.init() ok /etc/httpd/conf/workers2.properties,E2,workerEnv.init() ok <*>\n",
    "'''\n",
    "docs = vectorstore.similarity_search_with_relevance_scores(query,fetch_k=4)\n",
    "docs[0]"
   ]
  },
  {
   "cell_type": "code",
   "execution_count": 35,
   "metadata": {},
   "outputs": [
    {
     "data": {
      "text/plain": [
       "'EventId: E3\\nEventTemplate: mod_jk child workerEnv in error state <*>'"
      ]
     },
     "execution_count": 35,
     "metadata": {},
     "output_type": "execute_result"
    }
   ],
   "source": [
    "docs[0][0].page_content"
   ]
  },
  {
   "cell_type": "code",
   "execution_count": null,
   "metadata": {},
   "outputs": [],
   "source": []
  }
 ],
 "metadata": {
  "kernelspec": {
   "display_name": "Python 3",
   "language": "python",
   "name": "python3"
  },
  "language_info": {
   "codemirror_mode": {
    "name": "ipython",
    "version": 3
   },
   "file_extension": ".py",
   "mimetype": "text/x-python",
   "name": "python",
   "nbconvert_exporter": "python",
   "pygments_lexer": "ipython3",
   "version": "3.10.12"
  }
 },
 "nbformat": 4,
 "nbformat_minor": 2
}
